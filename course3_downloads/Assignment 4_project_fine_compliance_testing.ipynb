{
 "cells": [
  {
   "cell_type": "markdown",
   "metadata": {},
   "source": [
    "---\n",
    "\n",
    "_You are currently looking at **version 1.0** of this notebook. To download notebooks and datafiles, as well as get help on Jupyter notebooks in the Coursera platform, visit the [Jupyter Notebook FAQ](https://www.coursera.org/learn/python-machine-learning/resources/bANLa) course resource._\n",
    "\n",
    "---"
   ]
  },
  {
   "cell_type": "markdown",
   "metadata": {},
   "source": [
    "## Assignment 4 - Understanding and Predicting Property Maintenance Fines\n",
    "\n",
    "This assignment is based on a data challenge from the Michigan Data Science Team ([MDST](http://midas.umich.edu/mdst/)). \n",
    "\n",
    "The Michigan Data Science Team ([MDST](http://midas.umich.edu/mdst/)) and the Michigan Student Symposium for Interdisciplinary Statistical Sciences ([MSSISS](https://sites.lsa.umich.edu/mssiss/)) have partnered with the City of Detroit to help solve one of the most pressing problems facing Detroit - blight. [Blight violations](http://www.detroitmi.gov/How-Do-I/Report/Blight-Complaint-FAQs) are issued by the city to individuals who allow their properties to remain in a deteriorated condition. Every year, the city of Detroit issues millions of dollars in fines to residents and every year, many of these fines remain unpaid. Enforcing unpaid blight fines is a costly and tedious process, so the city wants to know: how can we increase blight ticket compliance?\n",
    "\n",
    "The first step in answering this question is understanding when and why a resident might fail to comply with a blight ticket. This is where predictive modeling comes in. For this assignment, your task is to predict whether a given blight ticket will be paid on time.\n",
    "\n",
    "All data for this assignment has been provided to us through the [Detroit Open Data Portal](https://data.detroitmi.gov/). **Only the data already included in your Coursera directory can be used for training the model for this assignment.** Nonetheless, we encourage you to look into data from other Detroit datasets to help inform feature creation and model selection. We recommend taking a look at the following related datasets:\n",
    "\n",
    "* [Building Permits](https://data.detroitmi.gov/Property-Parcels/Building-Permits/xw2a-a7tf)\n",
    "* [Trades Permits](https://data.detroitmi.gov/Property-Parcels/Trades-Permits/635b-dsgv)\n",
    "* [Improve Detroit: Submitted Issues](https://data.detroitmi.gov/Government/Improve-Detroit-Submitted-Issues/fwz3-w3yn)\n",
    "* [DPD: Citizen Complaints](https://data.detroitmi.gov/Public-Safety/DPD-Citizen-Complaints-2016/kahe-efs3)\n",
    "* [Parcel Map](https://data.detroitmi.gov/Property-Parcels/Parcel-Map/fxkw-udwf)\n",
    "\n",
    "___\n",
    "\n",
    "We provide you with two data files for use in training and validating your models: train.csv and test.csv. Each row in these two files corresponds to a single blight ticket, and includes information about when, why, and to whom each ticket was issued. The target variable is compliance, which is True if the ticket was paid early, on time, or within one month of the hearing data, False if the ticket was paid after the hearing date or not at all, **and Null if the violator was found not responsible.** Compliance, as well as a handful of other variables that will not be available at test-time, are only included in train.csv.\n",
    "\n",
    "**Note: All tickets where the violators were found not responsible are not considered during evaluation.** They are included in the training set as an additional source of data for visualization, and to enable unsupervised and semi-supervised approaches. However, they are not included in the test set.\n",
    "\n",
    "<br>\n",
    "\n",
    "**File descriptions** (Use only this data for training your model!)\n",
    "\n",
    "    train.csv - the training set (all tickets issued 2004-2011)\n",
    "    test.csv - the test set (all tickets issued 2012-2016)\n",
    "    addresses.csv & latlons.csv - mapping from ticket id to addresses (violation address), and from addresses to lat/lon coordinates. \n",
    "     Note: misspelled addresses may be incorrectly geolocated.\n",
    "\n",
    "<br>\n",
    "\n",
    "**Data fields**\n",
    "\n",
    "train.csv & test.csv\n",
    "\n",
    "    ticket_id - unique identifier for tickets\n",
    "    agency_name - Agency that issued the ticket\n",
    "    inspector_name - Name of inspector that issued the ticket\n",
    "    violator_name - Name of the person/organization that the ticket was issued to\n",
    "    violation_street_number, violation_street_name, violation_zip_code - Address where the violation occurred\n",
    "    mailing_address_str_number, mailing_address_str_name, city, state, zip_code, non_us_str_code, country - Mailing address of the violator\n",
    "    ticket_issued_date - Date and time the ticket was issued\n",
    "    hearing_date - Date and time the violator's hearing was scheduled\n",
    "    violation_code, violation_description - Type of violation\n",
    "    disposition - Judgment and judgement type\n",
    "    fine_amount - Violation fine amount, excluding fees\n",
    "    admin_fee - $20 fee assigned to responsible judgments\n",
    "state_fee - $10 fee assigned to responsible judgments\n",
    "    late_fee - 10% fee assigned to responsible judgments\n",
    "    discount_amount - discount applied, if any\n",
    "    clean_up_cost - DPW clean-up or graffiti removal cost\n",
    "    judgment_amount - Sum of all fines and fees\n",
    "    grafitti_status - Flag for graffiti violations\n",
    "    \n",
    "train.csv only\n",
    "\n",
    "    payment_amount - Amount paid, if any\n",
    "    payment_date - Date payment was made, if it was received\n",
    "    payment_status - Current payment status as of Feb 1 2017\n",
    "    balance_due - Fines and fees still owed\n",
    "    collection_status - Flag for payments in collections\n",
    "    compliance [target variable for prediction] \n",
    "     Null = Not responsible\n",
    "     0 = Responsible, non-compliant\n",
    "     1 = Responsible, compliant\n",
    "    compliance_detail - More information on why each ticket was marked compliant or non-compliant\n",
    "\n",
    "\n",
    "___\n",
    "\n",
    "## Evaluation\n",
    "\n",
    "Your predictions will be given as the probability that the corresponding blight ticket will be paid on time.\n",
    "\n",
    "The evaluation metric for this assignment is the **Area Under the ROC Curve (AUC).** \n",
    "\n",
    "Your grade will be based on the AUC score computed for your classifier. A model which with an AUROC of 0.7 passes this assignment, over 0.75 will recieve full points.\n",
    "___\n",
    "\n",
    "For this assignment, create a function that trains a model to predict blight ticket compliance in Detroit using `train.csv`. Using this model, return a series of length 61001 with the data being the probability that each corresponding ticket from `test.csv` will be paid, and the index being the ticket_id.\n",
    "\n",
    "Example:\n",
    "\n",
    "    ticket_id\n",
    "       284932    0.531842\n",
    "       285362    0.401958\n",
    "       285361    0.105928\n",
    "       285338    0.018572\n",
    "                 ...\n",
    "       376499    0.208567\n",
    "       376500    0.818759\n",
    "       369851    0.018528\n",
    "       Name: compliance, dtype: float32"
   ]
  },
  {
   "cell_type": "code",
   "execution_count": 1,
   "metadata": {},
   "outputs": [],
   "source": [
    "import pandas as pd\n",
    "import numpy as np\n",
    "import matplotlib.pyplot as plt\n",
    "pd.set_option(\"display.max_columns\", None)\n",
    "# pd.reset_option(\"display.max_columns\")   # reset"
   ]
  },
  {
   "cell_type": "code",
   "execution_count": 2,
   "metadata": {},
   "outputs": [
    {
     "name": "stderr",
     "output_type": "stream",
     "text": [
      "/Users/chujiechen/opt/anaconda3/envs/ai/lib/python3.8/site-packages/IPython/core/interactiveshell.py:3155: DtypeWarning: Columns (12,31) have mixed types.Specify dtype option on import or set low_memory=False.\n",
      "  has_raised = await self.run_ast_nodes(code_ast.body, cell_name,\n"
     ]
    },
    {
     "data": {
      "text/plain": [
       "((250306, 34), (61001, 27))"
      ]
     },
     "execution_count": 2,
     "metadata": {},
     "output_type": "execute_result"
    }
   ],
   "source": [
    "train = pd.read_csv(\"train.csv\", dtype={\"agency_name\": \"category\",\n",
    "                                     \"violation_code\": \"category\",\n",
    "                                     \"zip_code\":\"category\"})    # dtype={'user_id': int}\n",
    "test = pd.read_csv(\"test.csv\", dtype={\"agency_name\": \"category\",\n",
    "                                     \"violation_code\": \"category\",\n",
    "                                     \"zip_code\":\"category\"})\n",
    "\n",
    "train.shape,test.shape"
   ]
  },
  {
   "cell_type": "code",
   "execution_count": 3,
   "metadata": {},
   "outputs": [
    {
     "name": "stdout",
     "output_type": "stream",
     "text": [
      "<class 'pandas.core.frame.DataFrame'>\n",
      "RangeIndex: 250306 entries, 0 to 250305\n",
      "Data columns (total 34 columns):\n",
      " #   Column                      Non-Null Count   Dtype   \n",
      "---  ------                      --------------   -----   \n",
      " 0   ticket_id                   250306 non-null  int64   \n",
      " 1   agency_name                 250306 non-null  category\n",
      " 2   inspector_name              250306 non-null  object  \n",
      " 3   violator_name               250272 non-null  object  \n",
      " 4   violation_street_number     250306 non-null  float64 \n",
      " 5   violation_street_name       250306 non-null  object  \n",
      " 6   violation_zip_code          0 non-null       float64 \n",
      " 7   mailing_address_str_number  246704 non-null  float64 \n",
      " 8   mailing_address_str_name    250302 non-null  object  \n",
      " 9   city                        250306 non-null  object  \n",
      " 10  state                       250213 non-null  object  \n",
      " 11  zip_code                    250305 non-null  category\n",
      " 12  non_us_str_code             3 non-null       object  \n",
      " 13  country                     250306 non-null  object  \n",
      " 14  ticket_issued_date          250306 non-null  object  \n",
      " 15  hearing_date                237815 non-null  object  \n",
      " 16  violation_code              250306 non-null  category\n",
      " 17  violation_description       250306 non-null  object  \n",
      " 18  disposition                 250306 non-null  object  \n",
      " 19  fine_amount                 250305 non-null  float64 \n",
      " 20  admin_fee                   250306 non-null  float64 \n",
      " 21  state_fee                   250306 non-null  float64 \n",
      " 22  late_fee                    250306 non-null  float64 \n",
      " 23  discount_amount             250306 non-null  float64 \n",
      " 24  clean_up_cost               250306 non-null  float64 \n",
      " 25  judgment_amount             250306 non-null  float64 \n",
      " 26  payment_amount              250306 non-null  float64 \n",
      " 27  balance_due                 250306 non-null  float64 \n",
      " 28  payment_date                41113 non-null   object  \n",
      " 29  payment_status              250306 non-null  object  \n",
      " 30  collection_status           36897 non-null   object  \n",
      " 31  grafitti_status             1 non-null       object  \n",
      " 32  compliance_detail           250306 non-null  object  \n",
      " 33  compliance                  159880 non-null  float64 \n",
      "dtypes: category(3), float64(13), int64(1), object(17)\n",
      "memory usage: 60.6+ MB\n"
     ]
    }
   ],
   "source": [
    "# first look\n",
    "train.info()"
   ]
  },
  {
   "cell_type": "code",
   "execution_count": 4,
   "metadata": {},
   "outputs": [
    {
     "data": {
      "text/html": [
       "<div>\n",
       "<style scoped>\n",
       "    .dataframe tbody tr th:only-of-type {\n",
       "        vertical-align: middle;\n",
       "    }\n",
       "\n",
       "    .dataframe tbody tr th {\n",
       "        vertical-align: top;\n",
       "    }\n",
       "\n",
       "    .dataframe thead th {\n",
       "        text-align: right;\n",
       "    }\n",
       "</style>\n",
       "<table border=\"1\" class=\"dataframe\">\n",
       "  <thead>\n",
       "    <tr style=\"text-align: right;\">\n",
       "      <th></th>\n",
       "      <th>ticket_id</th>\n",
       "      <th>violation_street_number</th>\n",
       "      <th>violation_zip_code</th>\n",
       "      <th>mailing_address_str_number</th>\n",
       "      <th>fine_amount</th>\n",
       "      <th>admin_fee</th>\n",
       "      <th>state_fee</th>\n",
       "      <th>late_fee</th>\n",
       "      <th>discount_amount</th>\n",
       "      <th>clean_up_cost</th>\n",
       "      <th>judgment_amount</th>\n",
       "      <th>payment_amount</th>\n",
       "      <th>balance_due</th>\n",
       "      <th>compliance</th>\n",
       "    </tr>\n",
       "  </thead>\n",
       "  <tbody>\n",
       "    <tr>\n",
       "      <th>count</th>\n",
       "      <td>250306.000000</td>\n",
       "      <td>2.503060e+05</td>\n",
       "      <td>0.0</td>\n",
       "      <td>2.467040e+05</td>\n",
       "      <td>250305.000000</td>\n",
       "      <td>250306.000000</td>\n",
       "      <td>250306.000000</td>\n",
       "      <td>250306.000000</td>\n",
       "      <td>250306.000000</td>\n",
       "      <td>250306.0</td>\n",
       "      <td>250306.000000</td>\n",
       "      <td>250306.000000</td>\n",
       "      <td>250306.000000</td>\n",
       "      <td>159880.000000</td>\n",
       "    </tr>\n",
       "    <tr>\n",
       "      <th>mean</th>\n",
       "      <td>152665.543099</td>\n",
       "      <td>1.064986e+04</td>\n",
       "      <td>NaN</td>\n",
       "      <td>9.149788e+03</td>\n",
       "      <td>374.423435</td>\n",
       "      <td>12.774764</td>\n",
       "      <td>6.387382</td>\n",
       "      <td>21.494506</td>\n",
       "      <td>0.125167</td>\n",
       "      <td>0.0</td>\n",
       "      <td>268.685356</td>\n",
       "      <td>48.898986</td>\n",
       "      <td>222.449058</td>\n",
       "      <td>0.072536</td>\n",
       "    </tr>\n",
       "    <tr>\n",
       "      <th>std</th>\n",
       "      <td>77189.882881</td>\n",
       "      <td>3.188733e+04</td>\n",
       "      <td>NaN</td>\n",
       "      <td>3.602034e+04</td>\n",
       "      <td>707.195807</td>\n",
       "      <td>9.607344</td>\n",
       "      <td>4.803672</td>\n",
       "      <td>56.464263</td>\n",
       "      <td>3.430178</td>\n",
       "      <td>0.0</td>\n",
       "      <td>626.915212</td>\n",
       "      <td>222.422425</td>\n",
       "      <td>606.394010</td>\n",
       "      <td>0.259374</td>\n",
       "    </tr>\n",
       "    <tr>\n",
       "      <th>min</th>\n",
       "      <td>18645.000000</td>\n",
       "      <td>0.000000e+00</td>\n",
       "      <td>NaN</td>\n",
       "      <td>1.000000e+00</td>\n",
       "      <td>0.000000</td>\n",
       "      <td>0.000000</td>\n",
       "      <td>0.000000</td>\n",
       "      <td>0.000000</td>\n",
       "      <td>0.000000</td>\n",
       "      <td>0.0</td>\n",
       "      <td>0.000000</td>\n",
       "      <td>0.000000</td>\n",
       "      <td>-7750.000000</td>\n",
       "      <td>0.000000</td>\n",
       "    </tr>\n",
       "    <tr>\n",
       "      <th>25%</th>\n",
       "      <td>86549.250000</td>\n",
       "      <td>4.739000e+03</td>\n",
       "      <td>NaN</td>\n",
       "      <td>5.440000e+02</td>\n",
       "      <td>200.000000</td>\n",
       "      <td>0.000000</td>\n",
       "      <td>0.000000</td>\n",
       "      <td>0.000000</td>\n",
       "      <td>0.000000</td>\n",
       "      <td>0.0</td>\n",
       "      <td>0.000000</td>\n",
       "      <td>0.000000</td>\n",
       "      <td>0.000000</td>\n",
       "      <td>0.000000</td>\n",
       "    </tr>\n",
       "    <tr>\n",
       "      <th>50%</th>\n",
       "      <td>152597.500000</td>\n",
       "      <td>1.024400e+04</td>\n",
       "      <td>NaN</td>\n",
       "      <td>2.456000e+03</td>\n",
       "      <td>250.000000</td>\n",
       "      <td>20.000000</td>\n",
       "      <td>10.000000</td>\n",
       "      <td>10.000000</td>\n",
       "      <td>0.000000</td>\n",
       "      <td>0.0</td>\n",
       "      <td>140.000000</td>\n",
       "      <td>0.000000</td>\n",
       "      <td>25.000000</td>\n",
       "      <td>0.000000</td>\n",
       "    </tr>\n",
       "    <tr>\n",
       "      <th>75%</th>\n",
       "      <td>219888.750000</td>\n",
       "      <td>1.576000e+04</td>\n",
       "      <td>NaN</td>\n",
       "      <td>1.292725e+04</td>\n",
       "      <td>250.000000</td>\n",
       "      <td>20.000000</td>\n",
       "      <td>10.000000</td>\n",
       "      <td>25.000000</td>\n",
       "      <td>0.000000</td>\n",
       "      <td>0.0</td>\n",
       "      <td>305.000000</td>\n",
       "      <td>0.000000</td>\n",
       "      <td>305.000000</td>\n",
       "      <td>0.000000</td>\n",
       "    </tr>\n",
       "    <tr>\n",
       "      <th>max</th>\n",
       "      <td>366178.000000</td>\n",
       "      <td>1.415411e+07</td>\n",
       "      <td>NaN</td>\n",
       "      <td>5.111345e+06</td>\n",
       "      <td>10000.000000</td>\n",
       "      <td>20.000000</td>\n",
       "      <td>10.000000</td>\n",
       "      <td>1000.000000</td>\n",
       "      <td>350.000000</td>\n",
       "      <td>0.0</td>\n",
       "      <td>11030.000000</td>\n",
       "      <td>11075.000000</td>\n",
       "      <td>11030.000000</td>\n",
       "      <td>1.000000</td>\n",
       "    </tr>\n",
       "  </tbody>\n",
       "</table>\n",
       "</div>"
      ],
      "text/plain": [
       "           ticket_id  violation_street_number  violation_zip_code  \\\n",
       "count  250306.000000             2.503060e+05                 0.0   \n",
       "mean   152665.543099             1.064986e+04                 NaN   \n",
       "std     77189.882881             3.188733e+04                 NaN   \n",
       "min     18645.000000             0.000000e+00                 NaN   \n",
       "25%     86549.250000             4.739000e+03                 NaN   \n",
       "50%    152597.500000             1.024400e+04                 NaN   \n",
       "75%    219888.750000             1.576000e+04                 NaN   \n",
       "max    366178.000000             1.415411e+07                 NaN   \n",
       "\n",
       "       mailing_address_str_number    fine_amount      admin_fee  \\\n",
       "count                2.467040e+05  250305.000000  250306.000000   \n",
       "mean                 9.149788e+03     374.423435      12.774764   \n",
       "std                  3.602034e+04     707.195807       9.607344   \n",
       "min                  1.000000e+00       0.000000       0.000000   \n",
       "25%                  5.440000e+02     200.000000       0.000000   \n",
       "50%                  2.456000e+03     250.000000      20.000000   \n",
       "75%                  1.292725e+04     250.000000      20.000000   \n",
       "max                  5.111345e+06   10000.000000      20.000000   \n",
       "\n",
       "           state_fee       late_fee  discount_amount  clean_up_cost  \\\n",
       "count  250306.000000  250306.000000    250306.000000       250306.0   \n",
       "mean        6.387382      21.494506         0.125167            0.0   \n",
       "std         4.803672      56.464263         3.430178            0.0   \n",
       "min         0.000000       0.000000         0.000000            0.0   \n",
       "25%         0.000000       0.000000         0.000000            0.0   \n",
       "50%        10.000000      10.000000         0.000000            0.0   \n",
       "75%        10.000000      25.000000         0.000000            0.0   \n",
       "max        10.000000    1000.000000       350.000000            0.0   \n",
       "\n",
       "       judgment_amount  payment_amount    balance_due     compliance  \n",
       "count    250306.000000   250306.000000  250306.000000  159880.000000  \n",
       "mean        268.685356       48.898986     222.449058       0.072536  \n",
       "std         626.915212      222.422425     606.394010       0.259374  \n",
       "min           0.000000        0.000000   -7750.000000       0.000000  \n",
       "25%           0.000000        0.000000       0.000000       0.000000  \n",
       "50%         140.000000        0.000000      25.000000       0.000000  \n",
       "75%         305.000000        0.000000     305.000000       0.000000  \n",
       "max       11030.000000    11075.000000   11030.000000       1.000000  "
      ]
     },
     "execution_count": 4,
     "metadata": {},
     "output_type": "execute_result"
    }
   ],
   "source": [
    "train.describe()"
   ]
  },
  {
   "cell_type": "code",
   "execution_count": 5,
   "metadata": {},
   "outputs": [
    {
     "data": {
      "text/plain": [
       "ticket_id                          0\n",
       "agency_name                        0\n",
       "inspector_name                     0\n",
       "violator_name                     34\n",
       "violation_street_number            0\n",
       "violation_street_name              0\n",
       "violation_zip_code            250306\n",
       "mailing_address_str_number      3602\n",
       "mailing_address_str_name           4\n",
       "city                               0\n",
       "state                             93\n",
       "zip_code                           1\n",
       "non_us_str_code               250303\n",
       "country                            0\n",
       "ticket_issued_date                 0\n",
       "hearing_date                   12491\n",
       "violation_code                     0\n",
       "violation_description              0\n",
       "disposition                        0\n",
       "fine_amount                        1\n",
       "admin_fee                          0\n",
       "state_fee                          0\n",
       "late_fee                           0\n",
       "discount_amount                    0\n",
       "clean_up_cost                      0\n",
       "judgment_amount                    0\n",
       "payment_amount                     0\n",
       "balance_due                        0\n",
       "payment_date                  209193\n",
       "payment_status                     0\n",
       "collection_status             213409\n",
       "grafitti_status               250305\n",
       "compliance_detail                  0\n",
       "compliance                     90426\n",
       "dtype: int64"
      ]
     },
     "execution_count": 5,
     "metadata": {},
     "output_type": "execute_result"
    }
   ],
   "source": [
    "train.isnull().sum()"
   ]
  },
  {
   "cell_type": "code",
   "execution_count": 6,
   "metadata": {},
   "outputs": [],
   "source": [
    "## formatting\n",
    "df = train.copy()\n",
    "# cannot include features not avaliable at evaluation stage\n",
    "features = ['ticket_id',\n",
    "            'agency_name',\n",
    "#             'zip_code', \n",
    "#             'state',\n",
    "            'country', # no non-US country in test set\n",
    "            'ticket_issued_date', \n",
    "            'hearing_date',\n",
    "            'violation_code', \n",
    "            'fine_amount', \n",
    "            'admin_fee',\n",
    "            'state_fee', \n",
    "            'late_fee', \n",
    "            'discount_amount', \n",
    "            'clean_up_cost',\n",
    "            'judgment_amount', \n",
    "            'compliance']\n",
    "df = df[features]\n",
    "df = df.dropna(subset=['compliance'])\n",
    "# df = df[~df.isnull().any(axis=1)]\n",
    "df = df.astype({'compliance': 'int32'})\n",
    "df.ticket_issued_date = pd.to_datetime(df.ticket_issued_date, format='%Y-%m-%d', errors='ignore')\n",
    "df.hearing_date = pd.to_datetime(df.hearing_date, format='%Y-%m-%d', errors='ignore')"
   ]
  },
  {
   "cell_type": "code",
   "execution_count": 7,
   "metadata": {},
   "outputs": [],
   "source": [
    "addresses = pd.read_csv(\"addresses.csv\")\n",
    "latlons = pd.read_csv(\"latlons.csv\")"
   ]
  },
  {
   "cell_type": "code",
   "execution_count": 8,
   "metadata": {},
   "outputs": [],
   "source": [
    "df = df.join(addresses.set_index('ticket_id'), on='ticket_id')\n",
    "df = df.join(latlons.set_index('address'), on='address')\n",
    "df = df.drop(['ticket_id', 'address'], axis=1)"
   ]
  },
  {
   "cell_type": "code",
   "execution_count": 9,
   "metadata": {},
   "outputs": [
    {
     "data": {
      "text/plain": [
       "agency_name             0\n",
       "country                 0\n",
       "ticket_issued_date      0\n",
       "hearing_date          227\n",
       "violation_code          0\n",
       "fine_amount             0\n",
       "admin_fee               0\n",
       "state_fee               0\n",
       "late_fee                0\n",
       "discount_amount         0\n",
       "clean_up_cost           0\n",
       "judgment_amount         0\n",
       "compliance              0\n",
       "lat                     2\n",
       "lon                     2\n",
       "dtype: int64"
      ]
     },
     "execution_count": 9,
     "metadata": {},
     "output_type": "execute_result"
    }
   ],
   "source": [
    "## clean up\n",
    "df.isnull().sum()"
   ]
  },
  {
   "cell_type": "code",
   "execution_count": 10,
   "metadata": {},
   "outputs": [],
   "source": [
    "df = df.fillna(df.mode().iloc[0])"
   ]
  },
  {
   "cell_type": "code",
   "execution_count": 11,
   "metadata": {},
   "outputs": [
    {
     "data": {
      "text/plain": [
       "agency_name           0\n",
       "country               0\n",
       "ticket_issued_date    0\n",
       "hearing_date          0\n",
       "violation_code        0\n",
       "fine_amount           0\n",
       "admin_fee             0\n",
       "state_fee             0\n",
       "late_fee              0\n",
       "discount_amount       0\n",
       "clean_up_cost         0\n",
       "judgment_amount       0\n",
       "compliance            0\n",
       "lat                   0\n",
       "lon                   0\n",
       "dtype: int64"
      ]
     },
     "execution_count": 11,
     "metadata": {},
     "output_type": "execute_result"
    }
   ],
   "source": [
    "df.isnull().sum()"
   ]
  },
  {
   "cell_type": "code",
   "execution_count": 12,
   "metadata": {},
   "outputs": [],
   "source": [
    "## datetime\n",
    "from datetime import timedelta\n",
    "df['hearing_date'] = df['hearing_date'].fillna(df['ticket_issued_date']+timedelta(np.mean((df.hearing_date - df.ticket_issued_date).dt.days)))\n",
    "\n",
    "def getYMDH(df, column, prefix, drop_original=True):\n",
    "#     df[prefix + 'year'] = df[column].dt.year\n",
    "    df[prefix + 'month'] = df[column].dt.month\n",
    "#     df[prefix + 'day'] = df[column].dt.day\n",
    "#     df[prefix + 'hour'] = df[column].dt.hour\n",
    "    df[prefix + 'dayofweek'] = df[column].dt.dayofweek\n",
    "    if drop_original:\n",
    "        df = df.drop(column, axis=1)\n",
    "    return df\n"
   ]
  },
  {
   "cell_type": "code",
   "execution_count": 13,
   "metadata": {},
   "outputs": [],
   "source": [
    "df['day_diff'] = (df.hearing_date - df.ticket_issued_date).dt.days\n",
    "df = getYMDH(df, \"ticket_issued_date\", \"ticket_\", drop_original=True)\n",
    "df = getYMDH(df, \"hearing_date\", \"hearing_\", drop_original=True)"
   ]
  },
  {
   "cell_type": "code",
   "execution_count": 14,
   "metadata": {},
   "outputs": [],
   "source": [
    "# ## location discretization\n",
    "# from sklearn.preprocessing import KBinsDiscretizer\n",
    "# enc = KBinsDiscretizer(n_bins=10, encode='onehot')\n",
    "# df_loc = pd.DataFrame(enc.fit_transform(df[['lat', 'lon']]).toarray(), \n",
    "#                       columns=['lat'+str(x) for x in range(10)] + ['lon'+str(x) for x in range(10)])\n",
    "#### Coursera does not have the lateset sklearn"
   ]
  },
  {
   "cell_type": "code",
   "execution_count": 15,
   "metadata": {},
   "outputs": [],
   "source": [
    "# df = df.reset_index(drop=True)\n",
    "# df = pd.concat([df, df_loc.reindex(df.index)], axis=1)\n",
    "# df = df.drop(['lat', 'lon'], axis=1)"
   ]
  },
  {
   "cell_type": "code",
   "execution_count": 16,
   "metadata": {},
   "outputs": [],
   "source": [
    "## zip_code\n",
    "df = df[df.country == 'USA']  # all test entries are in USA\n",
    "# def decode_zip_code(df, col, drop_original=True):\n",
    "#     df[col+\"_area\"] = np.array([x[:1] for x in df[col]])\n",
    "#     df[col+\"_city\"] = np.array([x[1:3] for x in df[col]])\n",
    "#     if drop_original:\n",
    "#         return df.drop(col, axis=1)\n",
    "#     return df"
   ]
  },
  {
   "cell_type": "code",
   "execution_count": 17,
   "metadata": {},
   "outputs": [],
   "source": [
    "# df = decode_zip_code(df, 'zip_code')\n",
    "df = df.drop(\"country\", axis=1)"
   ]
  },
  {
   "cell_type": "code",
   "execution_count": 18,
   "metadata": {},
   "outputs": [],
   "source": [
    "## categorical features\n",
    "#     print(len(set(df.zip_code_area)),len(set(df.zip_code_city)),len(set(df.agency_name)),len(set(df.violation_code)))\n",
    "# using pandas.get_dummies\n",
    "df = pd.get_dummies(df, columns=[\n",
    "#         \"zip_code_area\", \"zip_code_city\", \n",
    "    \"agency_name\", \"violation_code\"], prefix=[\n",
    "#         \"area_\", \"city_\", \n",
    "    \"agency_\", \"vio_\"])"
   ]
  },
  {
   "cell_type": "code",
   "execution_count": 19,
   "metadata": {},
   "outputs": [
    {
     "data": {
      "text/plain": [
       "(159869, 255)"
      ]
     },
     "execution_count": 19,
     "metadata": {},
     "output_type": "execute_result"
    }
   ],
   "source": [
    "df.shape"
   ]
  },
  {
   "cell_type": "markdown",
   "metadata": {},
   "source": [
    "# baseline model with Dummy\n",
    "## No preprocessing"
   ]
  },
  {
   "cell_type": "code",
   "execution_count": 20,
   "metadata": {},
   "outputs": [],
   "source": [
    "from sklearn.model_selection import train_test_split\n",
    "X = df.drop('compliance', axis=1)\n",
    "y = df.compliance\n",
    "X_train, X_test, y_train, y_test = train_test_split(X, y, random_state=0)"
   ]
  },
  {
   "cell_type": "code",
   "execution_count": 21,
   "metadata": {},
   "outputs": [
    {
     "data": {
      "text/plain": [
       "(0.8630904723779024,\n",
       " 0.07175358767938397,\n",
       " 0.0706896551724138,\n",
       " 0.07121764808059754)"
      ]
     },
     "execution_count": 21,
     "metadata": {},
     "output_type": "execute_result"
    }
   ],
   "source": [
    "from sklearn.dummy import DummyClassifier\n",
    "from sklearn.metrics import f1_score, precision_score, recall_score\n",
    "dummy_clf = DummyClassifier(strategy=\"stratified\")\n",
    "dummy_clf.fit(X_train, y_train)\n",
    "y_pred = dummy_clf.predict(X_test)\n",
    "# accuracy, precision, recall, F1 score\n",
    "accuracy = dummy_clf.score(X_test, y_test)\n",
    "precision = precision_score(y_test, y_pred)\n",
    "recall = recall_score(y_test, y_pred)\n",
    "f1_score = f1_score(y_test, y_pred)\n",
    "accuracy, precision, recall, f1_score"
   ]
  },
  {
   "cell_type": "markdown",
   "metadata": {},
   "source": [
    "# baseline model with logistic regression\n",
    "## No preprocessing"
   ]
  },
  {
   "cell_type": "code",
   "execution_count": 22,
   "metadata": {},
   "outputs": [
    {
     "name": "stderr",
     "output_type": "stream",
     "text": [
      "/Users/chujiechen/opt/anaconda3/envs/ai/lib/python3.8/site-packages/sklearn/linear_model/_logistic.py:762: ConvergenceWarning: lbfgs failed to converge (status=1):\n",
      "STOP: TOTAL NO. of ITERATIONS REACHED LIMIT.\n",
      "\n",
      "Increase the number of iterations (max_iter) or scale the data as shown in:\n",
      "    https://scikit-learn.org/stable/modules/preprocessing.html\n",
      "Please also refer to the documentation for alternative solver options:\n",
      "    https://scikit-learn.org/stable/modules/linear_model.html#logistic-regression\n",
      "  n_iter_i = _check_optimize_result(\n"
     ]
    },
    {
     "data": {
      "text/plain": [
       "(0.9336469175340272,\n",
       " 0.8054187192118226,\n",
       " 0.11275862068965517,\n",
       " 0.19782214156079853)"
      ]
     },
     "execution_count": 22,
     "metadata": {},
     "output_type": "execute_result"
    }
   ],
   "source": [
    "from sklearn.linear_model import LogisticRegression\n",
    "from sklearn.metrics import f1_score, precision_score, recall_score\n",
    "clf = LogisticRegression(random_state=0, max_iter=100).fit(X_train, y_train)\n",
    "y_pred = clf.predict(X_test)\n",
    "# accuracy, precision, recall, F1 score\n",
    "accuracy = clf.score(X_test, y_test)\n",
    "precision = precision_score(y_test, y_pred)\n",
    "recall = recall_score(y_test, y_pred)\n",
    "f1_score = f1_score(y_test, y_pred)\n",
    "accuracy, precision, recall, f1_score"
   ]
  },
  {
   "cell_type": "code",
   "execution_count": 23,
   "metadata": {},
   "outputs": [
    {
     "name": "stderr",
     "output_type": "stream",
     "text": [
      "<ipython-input-23-e10e7e54f505>:17: MatplotlibDeprecationWarning: Adding an axes using the same arguments as a previous axes currently reuses the earlier instance.  In a future version, a new instance will always be created and returned.  Meanwhile, this warning can be suppressed, and the future behavior ensured, by passing a unique label to each axes instance.\n",
      "  plt.axes().set_aspect('equal')\n"
     ]
    },
    {
     "data": {
      "image/png": "[encoded data removed]",
      "text/plain": [
       "<Figure size 576x432 with 1 Axes>"
      ]
     },
     "metadata": {
      "needs_background": "light"
     },
     "output_type": "display_data"
    }
   ],
   "source": [
    "from sklearn.metrics import roc_curve, auc\n",
    "# y_score = clf.decision_function(X_test)\n",
    "y_score = clf.predict_proba(X_test)[:,1]\n",
    "fpr, tpr, _ = roc_curve(y_test, y_score)\n",
    "roc_auc = auc(fpr, tpr)\n",
    "\n",
    "import matplotlib.pyplot as plt\n",
    "plt.figure(figsize=(8,6))\n",
    "plt.xlim([-0.01, 1.00])\n",
    "plt.ylim([-0.01, 1.01])\n",
    "plt.plot(fpr, tpr, lw=3, label='LogRegr ROC curve (area = {:0.2f})'.format(roc_auc))\n",
    "plt.xlabel('False Positive Rate', fontsize=16)\n",
    "plt.ylabel('True Positive Rate', fontsize=16)\n",
    "plt.title('ROC curve', fontsize=16)\n",
    "plt.legend(loc='lower right', fontsize=13)\n",
    "plt.plot([0, 1], [0, 1], color='navy', lw=3, linestyle='--')\n",
    "plt.axes().set_aspect('equal')\n",
    "plt.show()"
   ]
  },
  {
   "cell_type": "code",
   "execution_count": 24,
   "metadata": {},
   "outputs": [
    {
     "data": {
      "text/plain": [
       "0.7663062991408149"
      ]
     },
     "execution_count": 24,
     "metadata": {},
     "output_type": "execute_result"
    }
   ],
   "source": [
    "roc_auc"
   ]
  },
  {
   "cell_type": "markdown",
   "metadata": {},
   "source": [
    "# baseline model with Logistic Regression\n",
    "## With preprocessing"
   ]
  },
  {
   "cell_type": "code",
   "execution_count": 25,
   "metadata": {},
   "outputs": [],
   "source": [
    "from sklearn import preprocessing\n",
    "scaler = preprocessing.MinMaxScaler().fit(X_train)\n",
    "X_scaled = scaler.transform(X_train)\n",
    "X_test_scaled = scaler.transform(X_test)"
   ]
  },
  {
   "cell_type": "code",
   "execution_count": 26,
   "metadata": {},
   "outputs": [
    {
     "name": "stderr",
     "output_type": "stream",
     "text": [
      "/Users/chujiechen/opt/anaconda3/envs/ai/lib/python3.8/site-packages/sklearn/linear_model/_logistic.py:762: ConvergenceWarning: lbfgs failed to converge (status=1):\n",
      "STOP: TOTAL NO. of ITERATIONS REACHED LIMIT.\n",
      "\n",
      "Increase the number of iterations (max_iter) or scale the data as shown in:\n",
      "    https://scikit-learn.org/stable/modules/preprocessing.html\n",
      "Please also refer to the documentation for alternative solver options:\n",
      "    https://scikit-learn.org/stable/modules/linear_model.html#logistic-regression\n",
      "  n_iter_i = _check_optimize_result(\n"
     ]
    },
    {
     "data": {
      "text/plain": [
       "(0.928142514011209,\n",
       " 0.7333333333333333,\n",
       " 0.015172413793103448,\n",
       " 0.029729729729729728)"
      ]
     },
     "execution_count": 26,
     "metadata": {},
     "output_type": "execute_result"
    }
   ],
   "source": [
    "from sklearn.linear_model import LogisticRegression\n",
    "from sklearn.metrics import f1_score, precision_score, recall_score\n",
    "clf = LogisticRegression(C=1.0, random_state=None, max_iter=100).fit(X_scaled, y_train)\n",
    "y_pred = clf.predict(X_test_scaled)\n",
    "# accuracy, precision, recall, F1 score\n",
    "accuracy = clf.score(X_test_scaled, y_test)\n",
    "precision = precision_score(y_test, y_pred)\n",
    "recall = recall_score(y_test, y_pred)\n",
    "f1_score = f1_score(y_test, y_pred)\n",
    "accuracy, precision, recall, f1_score"
   ]
  },
  {
   "cell_type": "code",
   "execution_count": 27,
   "metadata": {},
   "outputs": [
    {
     "name": "stdout",
     "output_type": "stream",
     "text": [
      "Accuracy of LR classifier on training set: 0.93\n",
      "Accuracy of LR classifier on test set: 0.93\n"
     ]
    }
   ],
   "source": [
    "print('Accuracy of LR classifier on training set: {:.2f}'\n",
    "     .format(clf.score(X_scaled, y_train)))\n",
    "print('Accuracy of LR classifier on test set: {:.2f}'\n",
    "     .format(clf.score(X_test_scaled, y_test)))"
   ]
  },
  {
   "cell_type": "code",
   "execution_count": 28,
   "metadata": {},
   "outputs": [
    {
     "name": "stderr",
     "output_type": "stream",
     "text": [
      "<ipython-input-28-75582bcf8f67>:17: MatplotlibDeprecationWarning: Adding an axes using the same arguments as a previous axes currently reuses the earlier instance.  In a future version, a new instance will always be created and returned.  Meanwhile, this warning can be suppressed, and the future behavior ensured, by passing a unique label to each axes instance.\n",
      "  plt.axes().set_aspect('equal')\n"
     ]
    },
    {
     "data": {
      "image/png": "[encoded data removed]",
      "text/plain": [
       "<Figure size 576x432 with 1 Axes>"
      ]
     },
     "metadata": {
      "needs_background": "light"
     },
     "output_type": "display_data"
    }
   ],
   "source": [
    "from sklearn.metrics import roc_curve, auc\n",
    "# y_score = clf.decision_function(X_test_scaled)\n",
    "y_score = clf.predict_proba(X_test_scaled)[:,1]\n",
    "fpr, tpr, _ = roc_curve(y_test, y_score)\n",
    "roc_auc = auc(fpr, tpr)\n",
    "\n",
    "import matplotlib.pyplot as plt\n",
    "plt.figure(figsize=(8,6))\n",
    "plt.xlim([-0.01, 1.00])\n",
    "plt.ylim([-0.01, 1.01])\n",
    "plt.plot(fpr, tpr, lw=3, label='LogRegr ROC curve (area = {:0.2f})'.format(roc_auc))\n",
    "plt.xlabel('False Positive Rate', fontsize=16)\n",
    "plt.ylabel('True Positive Rate', fontsize=16)\n",
    "plt.title('ROC curve', fontsize=16)\n",
    "plt.legend(loc='lower right', fontsize=13)\n",
    "plt.plot([0, 1], [0, 1], color='navy', lw=3, linestyle='--')\n",
    "plt.axes().set_aspect('equal')\n",
    "plt.show()"
   ]
  },
  {
   "cell_type": "code",
   "execution_count": 29,
   "metadata": {},
   "outputs": [
    {
     "data": {
      "text/plain": [
       "0.7466629968036377"
      ]
     },
     "execution_count": 29,
     "metadata": {},
     "output_type": "execute_result"
    }
   ],
   "source": [
    "roc_auc"
   ]
  },
  {
   "cell_type": "code",
   "execution_count": null,
   "metadata": {
    "scrolled": true
   },
   "outputs": [],
   "source": [
    "# from sklearn.model_selection import GridSearchCV\n",
    "# from sklearn.metrics import roc_auc_score\n",
    "\n",
    "# grid_values = {'C': [0.001, 0.1, 1, 10, 100]}\n",
    "\n",
    "# # alternative metric to optimize over grid parameters: AUC\n",
    "# grid_clf_auc = GridSearchCV(clf, param_grid = grid_values, scoring = 'roc_auc', cv=3)\n",
    "# grid_clf_auc.fit(X_scaled, y_train)\n",
    "# y_decision_fn_scores_auc = grid_clf_auc.decision_function(X_test_scaled) \n",
    "\n",
    "# print('Test set AUC: ', roc_auc_score(y_test, y_decision_fn_scores_auc))\n",
    "# print('Grid best parameter (max. AUC): ', grid_clf_auc.best_params_)\n",
    "# print('Grid best score (AUC): ', grid_clf_auc.best_score_)"
   ]
  },
  {
   "cell_type": "markdown",
   "metadata": {},
   "source": [
    "# Tree-based model with GradientBoostingClassifier"
   ]
  },
  {
   "cell_type": "code",
   "execution_count": 30,
   "metadata": {},
   "outputs": [
    {
     "data": {
      "text/plain": [
       "(0.935123098478783,\n",
       " 0.9205479452054794,\n",
       " 0.11586206896551725,\n",
       " 0.20581929555895867)"
      ]
     },
     "execution_count": 30,
     "metadata": {},
     "output_type": "execute_result"
    }
   ],
   "source": [
    "from sklearn.ensemble import GradientBoostingClassifier\n",
    "from sklearn.metrics import f1_score, precision_score, recall_score\n",
    "\n",
    "clf = GradientBoostingClassifier().fit(X_scaled, y_train)\n",
    "y_pred = clf.predict(X_test_scaled)\n",
    "# accuracy, precision, recall, F1 score\n",
    "accuracy = clf.score(X_test_scaled, y_test)\n",
    "precision = precision_score(y_test, y_pred)\n",
    "recall = recall_score(y_test, y_pred)\n",
    "f1_score = f1_score(y_test, y_pred)\n",
    "accuracy, precision, recall, f1_score"
   ]
  },
  {
   "cell_type": "code",
   "execution_count": 31,
   "metadata": {},
   "outputs": [
    {
     "name": "stderr",
     "output_type": "stream",
     "text": [
      "<ipython-input-31-75582bcf8f67>:17: MatplotlibDeprecationWarning: Adding an axes using the same arguments as a previous axes currently reuses the earlier instance.  In a future version, a new instance will always be created and returned.  Meanwhile, this warning can be suppressed, and the future behavior ensured, by passing a unique label to each axes instance.\n",
      "  plt.axes().set_aspect('equal')\n"
     ]
    },
    {
     "data": {
      "image/png": "[encoded data removed]",
      "text/plain": [
       "<Figure size 576x432 with 1 Axes>"
      ]
     },
     "metadata": {
      "needs_background": "light"
     },
     "output_type": "display_data"
    }
   ],
   "source": [
    "from sklearn.metrics import roc_curve, auc\n",
    "# y_score = clf.decision_function(X_test_scaled)\n",
    "y_score = clf.predict_proba(X_test_scaled)[:,1]\n",
    "fpr, tpr, _ = roc_curve(y_test, y_score)\n",
    "roc_auc = auc(fpr, tpr)\n",
    "\n",
    "import matplotlib.pyplot as plt\n",
    "plt.figure(figsize=(8,6))\n",
    "plt.xlim([-0.01, 1.00])\n",
    "plt.ylim([-0.01, 1.01])\n",
    "plt.plot(fpr, tpr, lw=3, label='LogRegr ROC curve (area = {:0.2f})'.format(roc_auc))\n",
    "plt.xlabel('False Positive Rate', fontsize=16)\n",
    "plt.ylabel('True Positive Rate', fontsize=16)\n",
    "plt.title('ROC curve', fontsize=16)\n",
    "plt.legend(loc='lower right', fontsize=13)\n",
    "plt.plot([0, 1], [0, 1], color='navy', lw=3, linestyle='--')\n",
    "plt.axes().set_aspect('equal')\n",
    "plt.show()"
   ]
  },
  {
   "cell_type": "code",
   "execution_count": 33,
   "metadata": {},
   "outputs": [
    {
     "name": "stdout",
     "output_type": "stream",
     "text": [
      "Fitting 3 folds for each of 9 candidates, totalling 27 fits\n",
      "[CV] learning_rate=0.01, max_depth=2 .................................\n"
     ]
    },
    {
     "name": "stderr",
     "output_type": "stream",
     "text": [
      "[Parallel(n_jobs=1)]: Using backend SequentialBackend with 1 concurrent workers.\n"
     ]
    },
    {
     "name": "stdout",
     "output_type": "stream",
     "text": [
      "[CV] ..... learning_rate=0.01, max_depth=2, score=0.769, total=  26.1s\n",
      "[CV] learning_rate=0.01, max_depth=2 .................................\n"
     ]
    },
    {
     "name": "stderr",
     "output_type": "stream",
     "text": [
      "[Parallel(n_jobs=1)]: Done   1 out of   1 | elapsed:   26.1s remaining:    0.0s\n"
     ]
    },
    {
     "name": "stdout",
     "output_type": "stream",
     "text": [
      "[CV] ..... learning_rate=0.01, max_depth=2, score=0.776, total=  25.3s\n",
      "[CV] learning_rate=0.01, max_depth=2 .................................\n"
     ]
    },
    {
     "name": "stderr",
     "output_type": "stream",
     "text": [
      "[Parallel(n_jobs=1)]: Done   2 out of   2 | elapsed:   51.4s remaining:    0.0s\n"
     ]
    },
    {
     "name": "stdout",
     "output_type": "stream",
     "text": [
      "[CV] ..... learning_rate=0.01, max_depth=2, score=0.764, total=  20.9s\n",
      "[CV] learning_rate=0.01, max_depth=3 .................................\n",
      "[CV] ..... learning_rate=0.01, max_depth=3, score=0.782, total=  29.7s\n",
      "[CV] learning_rate=0.01, max_depth=3 .................................\n",
      "[CV] ..... learning_rate=0.01, max_depth=3, score=0.786, total=  29.3s\n",
      "[CV] learning_rate=0.01, max_depth=3 .................................\n",
      "[CV] ..... learning_rate=0.01, max_depth=3, score=0.781, total=  29.8s\n",
      "[CV] learning_rate=0.01, max_depth=4 .................................\n",
      "[CV] ..... learning_rate=0.01, max_depth=4, score=0.787, total=  38.0s\n",
      "[CV] learning_rate=0.01, max_depth=4 .................................\n",
      "[CV] ..... learning_rate=0.01, max_depth=4, score=0.790, total=  37.2s\n",
      "[CV] learning_rate=0.01, max_depth=4 .................................\n",
      "[CV] ..... learning_rate=0.01, max_depth=4, score=0.787, total=  36.7s\n",
      "[CV] learning_rate=0.1, max_depth=2 ..................................\n",
      "[CV] ...... learning_rate=0.1, max_depth=2, score=0.790, total=  20.5s\n",
      "[CV] learning_rate=0.1, max_depth=2 ..................................\n",
      "[CV] ...... learning_rate=0.1, max_depth=2, score=0.792, total=  20.3s\n",
      "[CV] learning_rate=0.1, max_depth=2 ..................................\n",
      "[CV] ...... learning_rate=0.1, max_depth=2, score=0.789, total=  21.0s\n",
      "[CV] learning_rate=0.1, max_depth=3 ..................................\n",
      "[CV] ...... learning_rate=0.1, max_depth=3, score=0.792, total=  30.4s\n",
      "[CV] learning_rate=0.1, max_depth=3 ..................................\n",
      "[CV] ...... learning_rate=0.1, max_depth=3, score=0.797, total=  31.2s\n",
      "[CV] learning_rate=0.1, max_depth=3 ..................................\n",
      "[CV] ...... learning_rate=0.1, max_depth=3, score=0.795, total=  31.0s\n",
      "[CV] learning_rate=0.1, max_depth=4 ..................................\n",
      "[CV] ...... learning_rate=0.1, max_depth=4, score=0.797, total=  37.2s\n",
      "[CV] learning_rate=0.1, max_depth=4 ..................................\n",
      "[CV] ...... learning_rate=0.1, max_depth=4, score=0.801, total=  37.7s\n",
      "[CV] learning_rate=0.1, max_depth=4 ..................................\n",
      "[CV] ...... learning_rate=0.1, max_depth=4, score=0.799, total=  39.0s\n",
      "[CV] learning_rate=1.0, max_depth=2 ..................................\n",
      "[CV] ...... learning_rate=1.0, max_depth=2, score=0.659, total=  22.2s\n",
      "[CV] learning_rate=1.0, max_depth=2 ..................................\n",
      "[CV] ...... learning_rate=1.0, max_depth=2, score=0.685, total=  25.2s\n",
      "[CV] learning_rate=1.0, max_depth=2 ..................................\n",
      "[CV] ...... learning_rate=1.0, max_depth=2, score=0.673, total=  20.5s\n",
      "[CV] learning_rate=1.0, max_depth=3 ..................................\n",
      "[CV] ...... learning_rate=1.0, max_depth=3, score=0.679, total=  31.4s\n",
      "[CV] learning_rate=1.0, max_depth=3 ..................................\n",
      "[CV] ...... learning_rate=1.0, max_depth=3, score=0.697, total=  32.0s\n",
      "[CV] learning_rate=1.0, max_depth=3 ..................................\n",
      "[CV] ...... learning_rate=1.0, max_depth=3, score=0.697, total=  31.4s\n",
      "[CV] learning_rate=1.0, max_depth=4 ..................................\n",
      "[CV] ...... learning_rate=1.0, max_depth=4, score=0.684, total=  42.4s\n",
      "[CV] learning_rate=1.0, max_depth=4 ..................................\n",
      "[CV] ...... learning_rate=1.0, max_depth=4, score=0.784, total=  42.9s\n",
      "[CV] learning_rate=1.0, max_depth=4 ..................................\n",
      "[CV] ...... learning_rate=1.0, max_depth=4, score=0.786, total=  41.6s\n"
     ]
    },
    {
     "name": "stderr",
     "output_type": "stream",
     "text": [
      "[Parallel(n_jobs=1)]: Done  27 out of  27 | elapsed: 13.9min finished\n"
     ]
    },
    {
     "name": "stdout",
     "output_type": "stream",
     "text": [
      "Test set AUC:  0.7925324241003486\n",
      "Grid best parameter (max. AUC):  {'learning_rate': 0.1, 'max_depth': 4}\n",
      "Grid best score (AUC):  0.798869234447085\n"
     ]
    }
   ],
   "source": [
    "from sklearn.model_selection import GridSearchCV\n",
    "from sklearn.metrics import roc_auc_score\n",
    "# alternative metric to optimize over grid parameters: AUC\n",
    "grid_values = {'learning_rate': [0.01, 0.1, 1.0], 'max_depth': [2,3,4]}\n",
    "grid_clf_auc = GridSearchCV(clf, param_grid = grid_values, scoring = 'roc_auc', cv=3, verbose=3)\n",
    "grid_clf_auc.fit(X_train, y_train)\n",
    "y_decision_fn_scores_auc = grid_clf_auc.decision_function(X_test) \n",
    "\n",
    "print('Test set AUC: ', roc_auc_score(y_test, y_decision_fn_scores_auc))\n",
    "print('Grid best parameter (max. AUC): ', grid_clf_auc.best_params_)\n",
    "print('Grid best score (AUC): ', grid_clf_auc.best_score_)"
   ]
  },
  {
   "cell_type": "markdown",
   "metadata": {},
   "source": [
    "# Test submission"
   ]
  },
  {
   "cell_type": "code",
   "execution_count": 1,
   "metadata": {},
   "outputs": [
    {
     "name": "stderr",
     "output_type": "stream",
     "text": [
      "/Users/chujiechen/opt/anaconda3/envs/ai/lib/python3.8/site-packages/IPython/core/interactiveshell.py:3155: DtypeWarning: Columns (12,31) have mixed types.Specify dtype option on import or set low_memory=False.\n",
      "  has_raised = await self.run_ast_nodes(code_ast.body, cell_name,\n"
     ]
    },
    {
     "data": {
      "text/plain": [
       "((250306, 34), (61001, 27))"
      ]
     },
     "execution_count": 1,
     "metadata": {},
     "output_type": "execute_result"
    }
   ],
   "source": [
    "import pandas as pd\n",
    "import numpy as np\n",
    "pd.reset_option(\"display.max_columns\")   # reset\n",
    "train = pd.read_csv(\"train.csv\", dtype={\"agency_name\": \"category\",\n",
    "                                     \"violation_code\": \"category\",\n",
    "                                     \"zip_code\":\"category\"})    # dtype={'user_id': int}\n",
    "test = pd.read_csv(\"test.csv\", dtype={\"agency_name\": \"category\",\n",
    "                                     \"violation_code\": \"category\",\n",
    "                                     \"zip_code\":\"category\"})\n",
    "train.shape, test.shape"
   ]
  },
  {
   "cell_type": "code",
   "execution_count": 2,
   "metadata": {},
   "outputs": [
    {
     "data": {
      "text/plain": [
       "((159869, 34), (61001, 27))"
      ]
     },
     "execution_count": 2,
     "metadata": {},
     "output_type": "execute_result"
    }
   ],
   "source": [
    "train = train.dropna(subset=['compliance'])\n",
    "train = train[train.country == 'USA']\n",
    "train.shape, test.shape"
   ]
  },
  {
   "cell_type": "code",
   "execution_count": 3,
   "metadata": {},
   "outputs": [
    {
     "data": {
      "text/plain": [
       "((220870, 14), (61001, 14))"
      ]
     },
     "execution_count": 3,
     "metadata": {},
     "output_type": "execute_result"
    }
   ],
   "source": [
    "features = ['ticket_id',\n",
    "            'agency_name',\n",
    "            'zip_code', \n",
    "#             'state',\n",
    "            'country', # no non-US country in test set\n",
    "            'ticket_issued_date', \n",
    "            'hearing_date',\n",
    "            'violation_code', \n",
    "            'fine_amount', \n",
    "            'admin_fee',\n",
    "            'state_fee', \n",
    "            'late_fee', \n",
    "            'discount_amount', \n",
    "            'clean_up_cost',\n",
    "            'judgment_amount']\n",
    "train_copy, test = train[features], test[features]\n",
    "df = pd.concat([train_copy, test], axis = 0)\n",
    "df.shape, df[-61001:].shape"
   ]
  },
  {
   "cell_type": "code",
   "execution_count": 4,
   "metadata": {},
   "outputs": [
    {
     "data": {
      "text/html": [
       "<div>\n",
       "<style scoped>\n",
       "    .dataframe tbody tr th:only-of-type {\n",
       "        vertical-align: middle;\n",
       "    }\n",
       "\n",
       "    .dataframe tbody tr th {\n",
       "        vertical-align: top;\n",
       "    }\n",
       "\n",
       "    .dataframe thead th {\n",
       "        text-align: right;\n",
       "    }\n",
       "</style>\n",
       "<table border=\"1\" class=\"dataframe\">\n",
       "  <thead>\n",
       "    <tr style=\"text-align: right;\">\n",
       "      <th></th>\n",
       "      <th>ticket_id</th>\n",
       "      <th>agency_name</th>\n",
       "      <th>zip_code</th>\n",
       "      <th>country</th>\n",
       "      <th>ticket_issued_date</th>\n",
       "      <th>hearing_date</th>\n",
       "      <th>violation_code</th>\n",
       "      <th>fine_amount</th>\n",
       "      <th>admin_fee</th>\n",
       "      <th>state_fee</th>\n",
       "      <th>late_fee</th>\n",
       "      <th>discount_amount</th>\n",
       "      <th>clean_up_cost</th>\n",
       "      <th>judgment_amount</th>\n",
       "    </tr>\n",
       "  </thead>\n",
       "  <tbody>\n",
       "    <tr>\n",
       "      <th>0</th>\n",
       "      <td>284932</td>\n",
       "      <td>Department of Public Works</td>\n",
       "      <td>48213</td>\n",
       "      <td>USA</td>\n",
       "      <td>2012-01-04 14:00:00</td>\n",
       "      <td>2012-01-19 09:00:00</td>\n",
       "      <td>22-2-61</td>\n",
       "      <td>200.0</td>\n",
       "      <td>20.0</td>\n",
       "      <td>10.0</td>\n",
       "      <td>20.0</td>\n",
       "      <td>0.0</td>\n",
       "      <td>0.0</td>\n",
       "      <td>250.0</td>\n",
       "    </tr>\n",
       "    <tr>\n",
       "      <th>1</th>\n",
       "      <td>285362</td>\n",
       "      <td>Department of Public Works</td>\n",
       "      <td>48219</td>\n",
       "      <td>USA</td>\n",
       "      <td>2012-01-05 09:50:00</td>\n",
       "      <td>2012-02-06 09:00:00</td>\n",
       "      <td>22-2-88(b)</td>\n",
       "      <td>1000.0</td>\n",
       "      <td>20.0</td>\n",
       "      <td>10.0</td>\n",
       "      <td>100.0</td>\n",
       "      <td>0.0</td>\n",
       "      <td>0.0</td>\n",
       "      <td>1130.0</td>\n",
       "    </tr>\n",
       "    <tr>\n",
       "      <th>2</th>\n",
       "      <td>285361</td>\n",
       "      <td>Department of Public Works</td>\n",
       "      <td>48219</td>\n",
       "      <td>USA</td>\n",
       "      <td>2012-01-05 09:50:00</td>\n",
       "      <td>2012-02-06 09:00:00</td>\n",
       "      <td>22-2-43</td>\n",
       "      <td>100.0</td>\n",
       "      <td>20.0</td>\n",
       "      <td>10.0</td>\n",
       "      <td>10.0</td>\n",
       "      <td>0.0</td>\n",
       "      <td>0.0</td>\n",
       "      <td>140.0</td>\n",
       "    </tr>\n",
       "    <tr>\n",
       "      <th>3</th>\n",
       "      <td>285338</td>\n",
       "      <td>Department of Public Works</td>\n",
       "      <td>48183</td>\n",
       "      <td>USA</td>\n",
       "      <td>2012-01-05 10:25:00</td>\n",
       "      <td>2012-02-07 09:00:00</td>\n",
       "      <td>22-2-88(b)</td>\n",
       "      <td>200.0</td>\n",
       "      <td>20.0</td>\n",
       "      <td>10.0</td>\n",
       "      <td>20.0</td>\n",
       "      <td>0.0</td>\n",
       "      <td>0.0</td>\n",
       "      <td>250.0</td>\n",
       "    </tr>\n",
       "    <tr>\n",
       "      <th>4</th>\n",
       "      <td>285346</td>\n",
       "      <td>Department of Public Works</td>\n",
       "      <td>48154</td>\n",
       "      <td>USA</td>\n",
       "      <td>2012-01-05 10:20:00</td>\n",
       "      <td>2012-02-14 09:00:00</td>\n",
       "      <td>22-2-45</td>\n",
       "      <td>100.0</td>\n",
       "      <td>20.0</td>\n",
       "      <td>10.0</td>\n",
       "      <td>10.0</td>\n",
       "      <td>0.0</td>\n",
       "      <td>0.0</td>\n",
       "      <td>140.0</td>\n",
       "    </tr>\n",
       "  </tbody>\n",
       "</table>\n",
       "</div>"
      ],
      "text/plain": [
       "   ticket_id                 agency_name zip_code country  \\\n",
       "0     284932  Department of Public Works    48213     USA   \n",
       "1     285362  Department of Public Works    48219     USA   \n",
       "2     285361  Department of Public Works    48219     USA   \n",
       "3     285338  Department of Public Works    48183     USA   \n",
       "4     285346  Department of Public Works    48154     USA   \n",
       "\n",
       "    ticket_issued_date         hearing_date violation_code  fine_amount  \\\n",
       "0  2012-01-04 14:00:00  2012-01-19 09:00:00        22-2-61        200.0   \n",
       "1  2012-01-05 09:50:00  2012-02-06 09:00:00     22-2-88(b)       1000.0   \n",
       "2  2012-01-05 09:50:00  2012-02-06 09:00:00        22-2-43        100.0   \n",
       "3  2012-01-05 10:25:00  2012-02-07 09:00:00     22-2-88(b)        200.0   \n",
       "4  2012-01-05 10:20:00  2012-02-14 09:00:00        22-2-45        100.0   \n",
       "\n",
       "   admin_fee  state_fee  late_fee  discount_amount  clean_up_cost  \\\n",
       "0       20.0       10.0      20.0              0.0            0.0   \n",
       "1       20.0       10.0     100.0              0.0            0.0   \n",
       "2       20.0       10.0      10.0              0.0            0.0   \n",
       "3       20.0       10.0      20.0              0.0            0.0   \n",
       "4       20.0       10.0      10.0              0.0            0.0   \n",
       "\n",
       "   judgment_amount  \n",
       "0            250.0  \n",
       "1           1130.0  \n",
       "2            140.0  \n",
       "3            250.0  \n",
       "4            140.0  "
      ]
     },
     "execution_count": 4,
     "metadata": {},
     "output_type": "execute_result"
    }
   ],
   "source": [
    "df[-61001:].head()"
   ]
  },
  {
   "cell_type": "code",
   "execution_count": 5,
   "metadata": {},
   "outputs": [],
   "source": [
    "df.ticket_issued_date = pd.to_datetime(df.ticket_issued_date, format='%Y-%m-%d', errors='ignore')\n",
    "df.hearing_date = pd.to_datetime(df.hearing_date, format='%Y-%m-%d', errors='ignore')\n",
    "addresses = pd.read_csv(\"addresses.csv\")\n",
    "latlons = pd.read_csv(\"latlons.csv\")\n",
    "df = df.join(addresses.set_index('ticket_id'), on='ticket_id')\n",
    "df = df.join(latlons.set_index('address'), on='address')\n",
    "df = df.drop(['ticket_id', 'address'], axis=1)\n",
    "df = df.fillna(df.mode().iloc[0])"
   ]
  },
  {
   "cell_type": "code",
   "execution_count": 6,
   "metadata": {},
   "outputs": [],
   "source": [
    "## datetime\n",
    "from datetime import timedelta\n",
    "df['hearing_date'] = df['hearing_date'].fillna(df['ticket_issued_date']+timedelta(np.mean((df.hearing_date - df.ticket_issued_date).dt.days)))\n",
    "\n",
    "def getYMDH(df, column, prefix, drop_original=True):\n",
    "    df[prefix + 'year'] = df[column].dt.year\n",
    "    df[prefix + 'month'] = df[column].dt.month\n",
    "    df[prefix + 'day'] = df[column].dt.day\n",
    "    df[prefix + 'hour'] = df[column].dt.hour\n",
    "    df[prefix + 'dayofweek'] = df[column].dt.dayofweek\n",
    "    if drop_original:\n",
    "        df = df.drop(column, axis=1)\n",
    "    return df\n",
    "\n",
    "df['day_diff'] = (df.hearing_date - df.ticket_issued_date).dt.days\n",
    "df = getYMDH(df, \"ticket_issued_date\", \"ticket_\", drop_original=True)\n",
    "df = getYMDH(df, \"hearing_date\", \"hearing_\", drop_original=True)\n"
   ]
  },
  {
   "cell_type": "code",
   "execution_count": 7,
   "metadata": {},
   "outputs": [],
   "source": [
    "## location discretization\n",
    "from sklearn.preprocessing import KBinsDiscretizer\n",
    "enc = KBinsDiscretizer(n_bins=10, encode='onehot')\n",
    "df_loc = pd.DataFrame(enc.fit_transform(df[['lat', 'lon']]).toarray(), \n",
    "                      columns=['lat'+str(x) for x in range(10)] + ['lon'+str(x) for x in range(10)])\n",
    "df = df.reset_index(drop=True)\n",
    "df = pd.concat([df, df_loc.reindex(df.index)], axis=1)\n",
    "df = df.drop(['lat', 'lon'], axis=1)\n",
    "\n"
   ]
  },
  {
   "cell_type": "code",
   "execution_count": 8,
   "metadata": {},
   "outputs": [],
   "source": [
    "## zip_code\n",
    "df = df[df.country == 'USA']  # all test entries are in USA\n",
    "def decode_zip_code(df, col, drop_original=True):\n",
    "    df[col+\"_area\"] = np.array([x[:1] for x in df[col]])\n",
    "    df[col+\"_city\"] = np.array([x[1:3] for x in df[col]])\n",
    "    if drop_original:\n",
    "        return df.drop(col, axis=1)\n",
    "    return df\n",
    "\n",
    "df = decode_zip_code(df, 'zip_code')\n",
    "df = df.drop(\"country\", axis=1)\n"
   ]
  },
  {
   "cell_type": "code",
   "execution_count": 9,
   "metadata": {},
   "outputs": [
    {
     "name": "stdout",
     "output_type": "stream",
     "text": [
      "25 147 5 223\n"
     ]
    },
    {
     "data": {
      "text/plain": [
       "(220870, 438)"
      ]
     },
     "execution_count": 9,
     "metadata": {},
     "output_type": "execute_result"
    }
   ],
   "source": [
    "## categorical features\n",
    "print(len(set(df.zip_code_area)),len(set(df.zip_code_city)),len(set(df.agency_name)),len(set(df.violation_code)))\n",
    "# using pandas.get_dummies\n",
    "df = pd.get_dummies(df, columns=[\"zip_code_area\", \"zip_code_city\", \"agency_name\", \"violation_code\"], prefix=[\"area_\", \"city_\", \"agency_\", \"vio_\"])\n",
    "df.shape\n"
   ]
  },
  {
   "cell_type": "code",
   "execution_count": 10,
   "metadata": {},
   "outputs": [
    {
     "data": {
      "text/plain": [
       "((159869, 438), (61001, 438), (159869,))"
      ]
     },
     "execution_count": 10,
     "metadata": {},
     "output_type": "execute_result"
    }
   ],
   "source": [
    "X_train, X_test, y_train = df[:-61001], df[-61001:], train['compliance']\n",
    "X_train.shape, X_test.shape, y_train.shape"
   ]
  },
  {
   "cell_type": "code",
   "execution_count": 23,
   "metadata": {},
   "outputs": [
    {
     "name": "stderr",
     "output_type": "stream",
     "text": [
      "/Users/chujiechen/opt/anaconda3/envs/ai/lib/python3.8/site-packages/sklearn/linear_model/_logistic.py:762: ConvergenceWarning: lbfgs failed to converge (status=1):\n",
      "STOP: TOTAL NO. of ITERATIONS REACHED LIMIT.\n",
      "\n",
      "Increase the number of iterations (max_iter) or scale the data as shown in:\n",
      "    https://scikit-learn.org/stable/modules/preprocessing.html\n",
      "Please also refer to the documentation for alternative solver options:\n",
      "    https://scikit-learn.org/stable/modules/linear_model.html#logistic-regression\n",
      "  n_iter_i = _check_optimize_result(\n"
     ]
    }
   ],
   "source": [
    "from sklearn.linear_model import LogisticRegression\n",
    "from sklearn.metrics import f1_score, precision_score, recall_score\n",
    "clf = LogisticRegression(random_state=0, max_iter=1000).fit(X_train, y_train)\n",
    "y_pred = clf.predict(X_test)\n",
    "y_score = clf.predict_proba(X_test)[:,1]"
   ]
  },
  {
   "cell_type": "code",
   "execution_count": 24,
   "metadata": {},
   "outputs": [
    {
     "data": {
      "text/plain": [
       "array([0.10669624, 0.0236918 , 0.1482621 , ..., 0.07621171, 0.07704886,\n",
       "       0.12202142])"
      ]
     },
     "execution_count": 24,
     "metadata": {},
     "output_type": "execute_result"
    }
   ],
   "source": [
    "y_score"
   ]
  },
  {
   "cell_type": "code",
   "execution_count": 20,
   "metadata": {},
   "outputs": [],
   "source": [
    "from sklearn import preprocessing\n",
    "scaler = preprocessing.MinMaxScaler().fit(X_train)\n",
    "X_scaled = scaler.transform(X_train)\n",
    "X_test_scaled = scaler.transform(X_test)\n"
   ]
  },
  {
   "cell_type": "code",
   "execution_count": 21,
   "metadata": {},
   "outputs": [
    {
     "name": "stderr",
     "output_type": "stream",
     "text": [
      "/Users/chujiechen/opt/anaconda3/envs/ai/lib/python3.8/site-packages/sklearn/linear_model/_logistic.py:762: ConvergenceWarning: lbfgs failed to converge (status=1):\n",
      "STOP: TOTAL NO. of ITERATIONS REACHED LIMIT.\n",
      "\n",
      "Increase the number of iterations (max_iter) or scale the data as shown in:\n",
      "    https://scikit-learn.org/stable/modules/preprocessing.html\n",
      "Please also refer to the documentation for alternative solver options:\n",
      "    https://scikit-learn.org/stable/modules/linear_model.html#logistic-regression\n",
      "  n_iter_i = _check_optimize_result(\n"
     ]
    }
   ],
   "source": [
    "from sklearn.linear_model import LogisticRegression\n",
    "clf = LogisticRegression(random_state=0, max_iter=100).fit(X_scaled, y_train)\n",
    "y_pred = clf.predict(X_test_scaled)\n",
    "y_score = clf.predict_proba(X_test_scaled)[:,1]"
   ]
  },
  {
   "cell_type": "code",
   "execution_count": 22,
   "metadata": {},
   "outputs": [
    {
     "data": {
      "text/plain": [
       "array([0.22473447, 0.03079504, 0.12880392, ..., 0.0532869 , 0.05365806,\n",
       "       0.05901491])"
      ]
     },
     "execution_count": 22,
     "metadata": {},
     "output_type": "execute_result"
    }
   ],
   "source": [
    "y_score"
   ]
  },
  {
   "cell_type": "code",
   "execution_count": 16,
   "metadata": {},
   "outputs": [],
   "source": [
    "def blight_model():\n",
    "    \n",
    "    # Your code here\n",
    "    \n",
    "    \n",
    "    return y_score# Your answer here"
   ]
  },
  {
   "cell_type": "code",
   "execution_count": 17,
   "metadata": {},
   "outputs": [
    {
     "data": {
      "text/plain": [
       "array([0.10669624, 0.0236918 , 0.1482621 , ..., 0.07621171, 0.07704886,\n",
       "       0.12202142])"
      ]
     },
     "execution_count": 17,
     "metadata": {},
     "output_type": "execute_result"
    }
   ],
   "source": [
    "blight_model()"
   ]
  },
  {
   "cell_type": "markdown",
   "metadata": {},
   "source": [
    "# Summary"
   ]
  },
  {
   "cell_type": "markdown",
   "metadata": {},
   "source": [
    "各种Feature Engineering加上Logistic Regression都不能上0.8，最高0.78左右。Coursera的autograder的memory比较小，如果有太多OneHotEncoding会out of memory。提交到Coursera上的LR without preprocess是0.76的AUC。 GradientBoostedDesicionTree加上GridSearch能到0.8左右。最后提交到Coursera上的GBC with preprocess 是0.79的AUC。"
   ]
  },
  {
   "cell_type": "code",
   "execution_count": null,
   "metadata": {},
   "outputs": [],
   "source": []
  }
 ],
 "metadata": {
  "coursera": {
   "course_slug": "python-machine-learning",
   "graded_item_id": "nNS8l",
   "launcher_item_id": "yWWk7",
   "part_id": "w8BSS"
  },
  "kernelspec": {
   "display_name": "Python 3",
   "language": "python",
   "name": "python3"
  },
  "language_info": {
   "codemirror_mode": {
    "name": "ipython",
    "version": 3
   },
   "file_extension": ".py",
   "mimetype": "text/x-python",
   "name": "python",
   "nbconvert_exporter": "python",
   "pygments_lexer": "ipython3",
   "version": "3.8.2"
  }
 },
 "nbformat": 4,
 "nbformat_minor": 2
}
